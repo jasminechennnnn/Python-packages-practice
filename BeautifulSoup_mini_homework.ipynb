{
 "cells": [
  {
   "cell_type": "markdown",
   "metadata": {},
   "source": [
    "# BeautifulSoup mini-homework\n",
    "\n",
    "* 本次作業期望利用套件Beautiful及requests進行網頁抓取\n",
    "* 目標網站為知名網站批踢踢實業坊之movie版\n",
    "* 抓取最新之5頁內容\n",
    "* 輸出csv檔，其中包含作者、看板、標題、時間、分數、內容\n",
    "* 其中分數欄算法 : 推+1分、噓-1分\n"
   ]
  },
  {
   "cell_type": "markdown",
   "metadata": {},
   "source": [
    "### Step1 : Import Package"
   ]
  },
  {
   "cell_type": "code",
   "execution_count": 1,
   "metadata": {},
   "outputs": [],
   "source": [
    "import re\n",
    "# Web scraping\n",
    "from bs4 import BeautifulSoup\n",
    "import requests\n",
    "# Data manipulation\n",
    "import numpy as np\n",
    "import pandas as pd"
   ]
  },
  {
   "cell_type": "markdown",
   "metadata": {},
   "source": [
    "### Step2 : Recommended Variable"
   ]
  },
  {
   "cell_type": "code",
   "execution_count": 2,
   "metadata": {},
   "outputs": [],
   "source": [
    "# 從 movie 版首頁開始\n",
    "url = \"https://www.ptt.cc/bbs/movie/index.html\"\n",
    "\n",
    "# 準備要記錄的表格\n",
    "df = pd.DataFrame(columns=[\"作者\", \"看板\", \"標題\", \"時間\", \"分數\", \"內容\"])"
   ]
  },
  {
   "cell_type": "markdown",
   "metadata": {},
   "source": [
    "### Step3 : Define a function\n",
    "\n",
    "定義一個函數，可以使之回傳讀取完一篇文章所抓取到的6項變數資料\n",
    "* 可能會使用到資料分析相關套件(如:pandas)\n",
    "* 不需要的資料(如:公告、版規等)務必過濾掉\n"
   ]
  },
  {
   "cell_type": "code",
   "execution_count": 3,
   "metadata": {},
   "outputs": [],
   "source": [
    "def get_page_meta(url):\n",
    "    result = {}\n",
    "    r = BeautifulSoup(requests.get(url).text, \"html5lib\")\n",
    "    value = []\n",
    "    for i in r.find_all(class_= \"article-meta-value\"):\n",
    "        value.append(i.text)\n",
    "    result = {'作者': value[0], '看板': value[1], '標題': value[2].replace('\\u3000', ' '), '時間': value[3]}\n",
    "    score = 0\n",
    "    for p in r.find_all(class_ = 'push', ):\n",
    "        if p.text[0] == '推':\n",
    "            score += 1\n",
    "        elif p.text[0] == '噓':\n",
    "            score -= 1\n",
    "    result['分數'] = score\n",
    "    con = r.find(id = 'main-container').text\n",
    "    result['內容'] = con[(con.find(':') + 11):con.find('※')].replace('\\n', ' ').replace('\\u3000', ' ')\n",
    "    return result"
   ]
  },
  {
   "cell_type": "markdown",
   "metadata": {},
   "source": [
    "### Step4 : Main Program\n",
    "\n",
    "請仔細觀察該網站之原始碼規律，搭配上課提及的方法完成作業。\n",
    "* 注意輸出csv檔之前須考慮編碼方式(可搭配 encoding=\"utf_8_sig\")"
   ]
  },
  {
   "cell_type": "code",
   "execution_count": 16,
   "metadata": {},
   "outputs": [
    {
     "output_type": "error",
     "ename": "TypeError",
     "evalue": "'NoneType' object is not subscriptable",
     "traceback": [
      "\u001b[1;31m---------------------------------------------------------------------------\u001b[0m",
      "\u001b[1;31mTypeError\u001b[0m                                 Traceback (most recent call last)",
      "\u001b[1;32m<ipython-input-16-6859b6203fb4>\u001b[0m in \u001b[0;36m<module>\u001b[1;34m\u001b[0m\n\u001b[0;32m      4\u001b[0m \u001b[0mi\u001b[0m \u001b[1;33m=\u001b[0m \u001b[1;36m0\u001b[0m\u001b[1;33m\u001b[0m\u001b[1;33m\u001b[0m\u001b[0m\n\u001b[0;32m      5\u001b[0m \u001b[1;32mfor\u001b[0m \u001b[0md\u001b[0m \u001b[1;32min\u001b[0m \u001b[0msoup\u001b[0m\u001b[1;33m.\u001b[0m\u001b[0mfind_all\u001b[0m\u001b[1;33m(\u001b[0m\u001b[0mclass_\u001b[0m\u001b[1;33m=\u001b[0m\u001b[1;34m\"title\"\u001b[0m\u001b[1;33m)\u001b[0m\u001b[1;33m:\u001b[0m\u001b[1;33m\u001b[0m\u001b[1;33m\u001b[0m\u001b[0m\n\u001b[1;32m----> 6\u001b[1;33m     \u001b[0murl\u001b[0m \u001b[1;33m=\u001b[0m \u001b[1;34m'https://www.ptt.cc'\u001b[0m\u001b[1;33m+\u001b[0m \u001b[0md\u001b[0m\u001b[1;33m.\u001b[0m\u001b[0mfind\u001b[0m\u001b[1;33m(\u001b[0m\u001b[1;34m'a'\u001b[0m\u001b[1;33m)\u001b[0m\u001b[1;33m[\u001b[0m\u001b[1;34m'href'\u001b[0m\u001b[1;33m]\u001b[0m\u001b[1;33m\u001b[0m\u001b[1;33m\u001b[0m\u001b[0m\n\u001b[0m\u001b[0;32m      7\u001b[0m     \u001b[0mdic\u001b[0m \u001b[1;33m=\u001b[0m \u001b[0mget_page_meta\u001b[0m\u001b[1;33m(\u001b[0m\u001b[0murl\u001b[0m\u001b[1;33m)\u001b[0m\u001b[1;33m\u001b[0m\u001b[1;33m\u001b[0m\u001b[0m\n\u001b[0;32m      8\u001b[0m     \u001b[1;32mif\u001b[0m \u001b[1;33m(\u001b[0m\u001b[0mdic\u001b[0m\u001b[1;33m[\u001b[0m\u001b[1;34m'標題'\u001b[0m\u001b[1;33m]\u001b[0m\u001b[1;33m.\u001b[0m\u001b[0mstartswith\u001b[0m\u001b[1;33m(\u001b[0m\u001b[1;34m\"(本文已被刪除)\"\u001b[0m\u001b[1;33m)\u001b[0m \u001b[1;32mor\u001b[0m \u001b[0mdic\u001b[0m\u001b[1;33m[\u001b[0m\u001b[1;34m'標題'\u001b[0m\u001b[1;33m]\u001b[0m\u001b[1;33m.\u001b[0m\u001b[0mstartswith\u001b[0m\u001b[1;33m(\u001b[0m\u001b[1;34m\"[公告]\"\u001b[0m\u001b[1;33m)\u001b[0m\u001b[1;33m)\u001b[0m\u001b[1;33m:\u001b[0m\u001b[1;33m\u001b[0m\u001b[1;33m\u001b[0m\u001b[0m\n",
      "\u001b[1;31mTypeError\u001b[0m: 'NoneType' object is not subscriptable"
     ]
    }
   ],
   "source": [
    "r = requests.get('https://www.ptt.cc/bbs/movie/index.html')\n",
    "soup = BeautifulSoup(r.text, \"html5lib\")\n",
    "df = pd.DataFrame(columns = ['作者', '看板', '標題', '時間', '分數', '內容'])\n",
    "i = 0\n",
    "for d in soup.find_all(class_=\"title\"):\n",
    "    url = 'https://www.ptt.cc'+ d.find('a')['href']\n",
    "    dic = get_page_meta(url)\n",
    "    if (dic['標題'].startswith(\"(本文已被刪除)\") or dic['標題'].startswith(\"[公告]\")):\n",
    "        continue\n",
    "    i += 1\n",
    "    \n",
    "    df = df.append(dic, ignore_index = True)\n",
    "    if i == 5: break"
   ]
  },
  {
   "cell_type": "code",
   "execution_count": 12,
   "metadata": {},
   "outputs": [
    {
     "output_type": "execute_result",
     "data": {
      "text/plain": [
       "dict_keys(['作者', '看板', '標題', '時間', '分數', '內容'])"
      ]
     },
     "metadata": {},
     "execution_count": 12
    }
   ],
   "source": [
    "dic.keys()"
   ]
  },
  {
   "cell_type": "code",
   "execution_count": 13,
   "metadata": {},
   "outputs": [
    {
     "output_type": "execute_result",
     "data": {
      "text/plain": [
       "dict_values(['Joybena (皮陀)', 'movie', '[新聞] 好巧！高中生越級參賽當槍手 下場慘兮兮', 'Fri Jan  8 03:46:15 2021', 1, ' 新聞網址： https://www.mirrormedia.mg/story/20210106edi047/   好巧！高中生越級參賽當槍手 下場慘兮兮  台灣明星夫妻的女兒捲入越級參賽風波，引發討論。其實電影早演過類似的劇情，美國女 星安娜坎卓克（Anna Kendrick）主演電影《歌喉讚》（Pitch Perfect）中，就上演高中 生越級參賽的戲碼，最後下場慘兮兮。  安娜坎卓克在《歌喉讚》飾演女主角貝卡，在巴頓大學與一群女孩組成無伴奏合唱團「美 麗女聲」（The Barden Bellas）。她們在全國大學生無伴奏合唱錦標賽（ICCA）半決賽 中遭遇強敵「腳標合唱團」（Footnotes），「腳」團的主唱，是一名叫提摩西（Timothy ）的非裔男孩，一出場就一鳴驚人，隨後還在美麗女聲表演時做出挑釁動作。  腳標合唱團在半決賽中取得第二名，獲晉級總決賽資格，不過賽後被人目擊提摩西的母親 背著一個手提袋，上頭印有「我的孩子是甘迺迪高中的榮譽學生」字樣，當槍手代打一事 東窗事發，被舉報後，腳標合唱團喪失晉級資格，最終由在半決賽中獲得第三名的美麗女 聲遞補。有影迷推測，提摩西的家境應該不差，因為他們家的房子看上去富麗堂皇。  《歌喉讚》講述一群怪咖大學女生組成無伴奏合唱團（A cappella），透過練習、磨合、 競賽發展出堅定友誼。電影青春無敵、好歌不斷，2012年上映後甚至帶動A cappella熱潮 ，女主角安娜坎卓克攀上事業高峰，也捧紅如「胖艾美」瑞貝爾威爾森（Rebel Wilson） 等知名綠葉，是部值得令人再三回味的好片。  https://youtu.be/R2ELnXwHDsQ  https://imgur.com/bAWY5Vv.jpg https://imgur.com/3BBFd0f.jpg https://imgur.com/zONbi4t.jpg https://imgur.com/o02U6dm.jpg    -- '])"
      ]
     },
     "metadata": {},
     "execution_count": 13
    }
   ],
   "source": [
    "dic.values()"
   ]
  }
 ],
 "metadata": {
  "kernelspec": {
   "display_name": "Python 3",
   "language": "python",
   "name": "python3"
  },
  "language_info": {
   "codemirror_mode": {
    "name": "ipython",
    "version": 3
   },
   "file_extension": ".py",
   "mimetype": "text/x-python",
   "name": "python",
   "nbconvert_exporter": "python",
   "pygments_lexer": "ipython3",
   "version": "3.8.3-final"
  }
 },
 "nbformat": 4,
 "nbformat_minor": 4
}