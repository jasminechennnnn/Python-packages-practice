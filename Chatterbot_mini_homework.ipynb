{
  "nbformat": 4,
  "nbformat_minor": 0,
  "metadata": {
    "kernelspec": {
      "display_name": "Python 3",
      "language": "python",
      "name": "python3"
    },
    "language_info": {
      "codemirror_mode": {
        "name": "ipython",
        "version": 3
      },
      "file_extension": ".py",
      "mimetype": "text/x-python",
      "name": "python",
      "nbconvert_exporter": "python",
      "pygments_lexer": "ipython3",
      "version": "3.7.9-final"
    },
    "colab": {
      "name": "Chatterbot_mini_homework.ipynb",
      "provenance": []
    }
  },
  "cells": [
    {
      "cell_type": "markdown",
      "metadata": {
        "id": "0VYwbE7rs77I"
      },
      "source": [
        "# ChatterBot mini-homework\n",
        "\n",
        "**TENET.txt** 是電影《天能》的繁體中文字幕文字檔，請使用這份資料訓練一個繁體中文的 ChatterBot(雖然它只會講很瞎的電影台詞)。\n",
        "1. 請設定使它在回應的信心不超過0.5時，一律回答「抱歉，我不太懂。」\n",
        "2. 請和它對話以確認是否有正確訓練"
      ]
    },
    {
      "cell_type": "markdown",
      "metadata": {
        "id": "N-6v5AMms77P"
      },
      "source": [
        "### Hint 1 : 創造並訓練 ChatBot，若它的信心不超過 0.5，須回答「抱歉，我不知道」\n",
        "<blockquote>\n",
        "    <p><font color=\"green\"><b>from</b></font> chatterbot <font color=\"green\"><b>import</b></font></p>\n",
        "    <p><font color=\"green\"><b>from</b></font> chatterbot.trainers <font color=\"green\"><b>import</b></font></p>\n",
        "    <p>data <font color=\"purple\"><b>=</b></font></p>\n",
        "    <p>chatbot <font color=\"purple\"><b>=</b></font></p>\n",
        "    <p>trainer <font color=\"purple\"><b>=</b></font></p>\n",
        "    <p>trainer.train(data)</p>\n",
        "    <p>List Trainer: [####################] 100%</p>\n",
        "</blockquote>"
      ]
    },
    {
      "cell_type": "markdown",
      "metadata": {
        "id": "b5A0h_Ocs77Q"
      },
      "source": [
        "### Hint 1 : 和它隨便對話\n",
        "<blockquote>\n",
        "    <pre>\n",
        "<font color=\"green\"><b>while 1</b></font>:\n",
        "    <font color=\"green\"><b>try</b></font>:\n",
        "        <font color=\"green\"><b>print</b></font>()\n",
        "        q <font color=\"purple\"><b>=</b></font> <font color=\"green\"><b>input</b></font>(<font color=\"darkred\"><b>'User: '</b></font>)\n",
        "        <font color=\"green\"><b>print</b></font>(<font color=\"darkred\"><b>'Bot:'</b></font>,chatbot.get_response(q))\n",
        "    <font color=\"green\"><b>except </b></font>(KeyboardInterrupt, EOFError, SystemExit):\n",
        "        <font color=\"green\"><b>break</b></font>\n",
        "    </pre>\n",
        "</blockquote>"
      ]
    },
    {
      "cell_type": "markdown",
      "metadata": {
        "id": "wwj3S7U4s77Q"
      },
      "source": [
        "<pre>\n",
        "範例對話：\n",
        "\n",
        "User: 完成!\n",
        "Bot: 那是一枚沒有引爆的炸彈\n",
        "\n",
        "User: 在哪?\n",
        "Bot: 史托斯克12市\n",
        "\n",
        "User: 發生什麼事了\n",
        "Bot: 抱歉，我不知道。\n",
        "\n",
        "User: 好吧\n",
        "Bot: 你說10秒，對吧\n",
        "\n",
        "User: 有嗎?\n",
        "Bot: 沒有\n",
        "\n",
        "User: 調皮\n",
        "Bot: 抱歉，我不知道。\n",
        "</pre>"
      ]
    },
    {
      "cell_type": "code",
      "metadata": {
        "colab": {
          "base_uri": "https://localhost:8080/"
        },
        "id": "V-XbcBRxh0Uu",
        "outputId": "f06d4dc7-784c-4547-979d-4e1f6f5b0b42"
      },
      "source": [
        "from google.colab import drive\r\n",
        "drive.mount('/content/drive')"
      ],
      "execution_count": 1,
      "outputs": [
        {
          "output_type": "stream",
          "text": [
            "Mounted at /content/drive\n"
          ],
          "name": "stdout"
        }
      ]
    },
    {
      "cell_type": "code",
      "metadata": {
        "colab": {
          "base_uri": "https://localhost:8080/"
        },
        "id": "kpNyNBQ1h2_M",
        "outputId": "ff1a0da1-5ec8-4a22-d48b-e5c2ef0485a1"
      },
      "source": [
        "%cd /content/drive/MyDrive/Colab Notebooks/bigdata/miniHW"
      ],
      "execution_count": 9,
      "outputs": [
        {
          "output_type": "stream",
          "text": [
            "/content/drive/MyDrive/Colab Notebooks/bigdata/miniHW\n"
          ],
          "name": "stdout"
        }
      ]
    },
    {
      "cell_type": "code",
      "metadata": {
        "colab": {
          "base_uri": "https://localhost:8080/"
        },
        "id": "uZlVAkhqwh1X",
        "outputId": "fee4494c-f67d-4d03-baa7-fa452370cd58"
      },
      "source": [
        "!pip install chatterbot"
      ],
      "execution_count": 5,
      "outputs": [
        {
          "output_type": "stream",
          "text": [
            "Collecting chatterbot\n",
            "\u001b[?25l  Downloading https://files.pythonhosted.org/packages/7c/21/85c2b114bd9dfabdd46ba58fc4519acdaed45d8c70898d40079e37a45e67/ChatterBot-1.0.8-py2.py3-none-any.whl (63kB)\n",
            "\r\u001b[K     |█████▏                          | 10kB 20.1MB/s eta 0:00:01\r\u001b[K     |██████████▎                     | 20kB 16.3MB/s eta 0:00:01\r\u001b[K     |███████████████▌                | 30kB 18.2MB/s eta 0:00:01\r\u001b[K     |████████████████████▋           | 40kB 15.6MB/s eta 0:00:01\r\u001b[K     |█████████████████████████▊      | 51kB 18.0MB/s eta 0:00:01\r\u001b[K     |███████████████████████████████ | 61kB 17.0MB/s eta 0:00:01\r\u001b[K     |████████████████████████████████| 71kB 6.3MB/s \n",
            "\u001b[?25hRequirement already satisfied: python-dateutil<2.9,>=2.8 in /usr/local/lib/python3.6/dist-packages (from chatterbot) (2.8.1)\n",
            "Requirement already satisfied: sqlalchemy<1.4,>=1.3 in /usr/local/lib/python3.6/dist-packages (from chatterbot) (1.3.20)\n",
            "Requirement already satisfied: pytz in /usr/local/lib/python3.6/dist-packages (from chatterbot) (2018.9)\n",
            "Collecting mathparse<0.2,>=0.1\n",
            "  Downloading https://files.pythonhosted.org/packages/c3/e5/4910fb85950cb960fcf3f5aabe1c8e55f5c9201788a1c1302b570a7e1f84/mathparse-0.1.2-py3-none-any.whl\n",
            "Requirement already satisfied: six>=1.5 in /usr/local/lib/python3.6/dist-packages (from python-dateutil<2.9,>=2.8->chatterbot) (1.15.0)\n",
            "Installing collected packages: mathparse, chatterbot\n",
            "Successfully installed chatterbot-1.0.8 mathparse-0.1.2\n"
          ],
          "name": "stdout"
        }
      ]
    },
    {
      "cell_type": "code",
      "metadata": {
        "id": "o6qI0_e7s77R"
      },
      "source": [
        "from chatterbot import ChatBot\n",
        "from chatterbot.trainers import ChatterBotCorpusTrainer"
      ],
      "execution_count": 6,
      "outputs": []
    },
    {
      "cell_type": "code",
      "metadata": {
        "id": "PadR5y3y8ce5"
      },
      "source": [
        "tenet = []\r\n",
        "f = open('TENET.txt', 'r')\r\n",
        "for line in f.readlines():\r\n",
        "  tenet.append(line.strip('\\n'))\r\n",
        "f.close()"
      ],
      "execution_count": 14,
      "outputs": []
    },
    {
      "cell_type": "code",
      "metadata": {
        "colab": {
          "base_uri": "https://localhost:8080/"
        },
        "id": "cbyQLiq4-lOb",
        "outputId": "79a7a046-e80f-4838-88ce-8f692faea7fc"
      },
      "source": [
        "tenet[:10]"
      ],
      "execution_count": 22,
      "outputs": [
        {
          "output_type": "execute_result",
          "data": {
            "text/plain": [
              "['叫醒美國佬',\n",
              " '嘿',\n",
              " '我們活在一個暮光世界',\n",
              " '我們活在一個暮光世界',\n",
              " '且黃昏時沒有朋友',\n",
              " '你的身份曝光',\n",
              " '這場突襲是為了消滅你',\n",
              " '但我建立了聯繫',\n",
              " '帶你走或殺了你，我只有兩分鐘，快做絕定',\n",
              " '東西在哪裡？']"
            ]
          },
          "metadata": {
            "tags": []
          },
          "execution_count": 22
        }
      ]
    },
    {
      "cell_type": "code",
      "metadata": {
        "colab": {
          "base_uri": "https://localhost:8080/"
        },
        "id": "SJoSlCS3wks4",
        "outputId": "629a5b58-0def-44fe-877b-ff424ad99f7e"
      },
      "source": [
        "from chatterbot.trainers import ListTrainer\r\n",
        "\r\n",
        "chatbot = ChatBot('TENET',\r\n",
        "          storage_adapter='chatterbot.storage.SQLStorageAdapter',\r\n",
        "          logic_adapters=[\r\n",
        "          {\r\n",
        "            'import_path': 'chatterbot.logic.BestMatch',\r\n",
        "            'default_response': '抱歉，我不知道。',\r\n",
        "            'maximum_similarity_threshold': 0.5}])\r\n",
        "\r\n",
        "# Start by training our bot with the ChatterBot corpus data\r\n",
        "trainer = ListTrainer(chatbot)\r\n",
        "trainer.train(tenet)"
      ],
      "execution_count": 19,
      "outputs": [
        {
          "output_type": "stream",
          "text": [
            "List Trainer: [####################] 100%\n"
          ],
          "name": "stdout"
        }
      ]
    },
    {
      "cell_type": "code",
      "metadata": {
        "colab": {
          "base_uri": "https://localhost:8080/"
        },
        "id": "EBBZtFeMs77R",
        "outputId": "8742cda0-d542-4e55-9f66-9fed4339fc42"
      },
      "source": [
        "while True:\r\n",
        "    try:\r\n",
        "      print()\r\n",
        "      q = input('User: ')\r\n",
        "      print('Bot:',chatbot.get_response(q))\r\n",
        "    except (KeyboardInterrupt, EOFError, SystemExit):\r\n",
        "        break"
      ],
      "execution_count": 23,
      "outputs": [
        {
          "output_type": "stream",
          "text": [
            "\n",
            "User: 這場突襲是為了消滅你\n",
            "Bot: 但我建立了聯繫\n",
            "\n",
            "User: 在哪裡?\n",
            "Bot: 史托斯克12市\n",
            "\n",
            "User: 幫我寫作業\n",
            "Bot: 抱歉，我不知道。\n",
            "\n",
            "User: 好了可以閉嘴了\n",
            "Bot: 抱歉，我不知道。\n",
            "\n"
          ],
          "name": "stdout"
        }
      ]
    }
  ]
}